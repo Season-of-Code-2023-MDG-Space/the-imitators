{
  "nbformat": 4,
  "nbformat_minor": 0,
  "metadata": {
    "colab": {
      "provenance": []
    },
    "kernelspec": {
      "name": "python3",
      "display_name": "Python 3"
    },
    "language_info": {
      "name": "python"
    }
  },
  "cells": [
    {
      "cell_type": "code",
      "source": [
        "!pip install tensorflow"
      ],
      "metadata": {
        "colab": {
          "base_uri": "https://localhost:8080/"
        },
        "id": "rbZpMmnIl1vg",
        "outputId": "38ecf4e3-479d-4c46-85d2-debfbf915576"
      },
      "execution_count": 30,
      "outputs": [
        {
          "output_type": "stream",
          "name": "stdout",
          "text": [
            "Looking in indexes: https://pypi.org/simple, https://us-python.pkg.dev/colab-wheels/public/simple/\n",
            "Requirement already satisfied: tensorflow in /usr/local/lib/python3.9/dist-packages (2.11.0)\n",
            "Requirement already satisfied: absl-py>=1.0.0 in /usr/local/lib/python3.9/dist-packages (from tensorflow) (1.4.0)\n",
            "Requirement already satisfied: tensorflow-estimator<2.12,>=2.11.0 in /usr/local/lib/python3.9/dist-packages (from tensorflow) (2.11.0)\n",
            "Requirement already satisfied: protobuf<3.20,>=3.9.2 in /usr/local/lib/python3.9/dist-packages (from tensorflow) (3.19.6)\n",
            "Requirement already satisfied: typing-extensions>=3.6.6 in /usr/local/lib/python3.9/dist-packages (from tensorflow) (4.5.0)\n",
            "Requirement already satisfied: tensorflow-io-gcs-filesystem>=0.23.1 in /usr/local/lib/python3.9/dist-packages (from tensorflow) (0.31.0)\n",
            "Requirement already satisfied: opt-einsum>=2.3.2 in /usr/local/lib/python3.9/dist-packages (from tensorflow) (3.3.0)\n",
            "Requirement already satisfied: setuptools in /usr/local/lib/python3.9/dist-packages (from tensorflow) (67.6.0)\n",
            "Requirement already satisfied: google-pasta>=0.1.1 in /usr/local/lib/python3.9/dist-packages (from tensorflow) (0.2.0)\n",
            "Requirement already satisfied: flatbuffers>=2.0 in /usr/local/lib/python3.9/dist-packages (from tensorflow) (23.3.3)\n",
            "Requirement already satisfied: wrapt>=1.11.0 in /usr/local/lib/python3.9/dist-packages (from tensorflow) (1.15.0)\n",
            "Requirement already satisfied: packaging in /usr/local/lib/python3.9/dist-packages (from tensorflow) (23.0)\n",
            "Requirement already satisfied: numpy>=1.20 in /usr/local/lib/python3.9/dist-packages (from tensorflow) (1.22.4)\n",
            "Requirement already satisfied: astunparse>=1.6.0 in /usr/local/lib/python3.9/dist-packages (from tensorflow) (1.6.3)\n",
            "Requirement already satisfied: h5py>=2.9.0 in /usr/local/lib/python3.9/dist-packages (from tensorflow) (3.8.0)\n",
            "Requirement already satisfied: tensorboard<2.12,>=2.11 in /usr/local/lib/python3.9/dist-packages (from tensorflow) (2.11.2)\n",
            "Requirement already satisfied: keras<2.12,>=2.11.0 in /usr/local/lib/python3.9/dist-packages (from tensorflow) (2.11.0)\n",
            "Requirement already satisfied: termcolor>=1.1.0 in /usr/local/lib/python3.9/dist-packages (from tensorflow) (2.2.0)\n",
            "Requirement already satisfied: six>=1.12.0 in /usr/local/lib/python3.9/dist-packages (from tensorflow) (1.16.0)\n",
            "Requirement already satisfied: libclang>=13.0.0 in /usr/local/lib/python3.9/dist-packages (from tensorflow) (15.0.6.1)\n",
            "Requirement already satisfied: gast<=0.4.0,>=0.2.1 in /usr/local/lib/python3.9/dist-packages (from tensorflow) (0.4.0)\n",
            "Requirement already satisfied: grpcio<2.0,>=1.24.3 in /usr/local/lib/python3.9/dist-packages (from tensorflow) (1.51.3)\n",
            "Requirement already satisfied: wheel<1.0,>=0.23.0 in /usr/local/lib/python3.9/dist-packages (from astunparse>=1.6.0->tensorflow) (0.40.0)\n",
            "Requirement already satisfied: tensorboard-plugin-wit>=1.6.0 in /usr/local/lib/python3.9/dist-packages (from tensorboard<2.12,>=2.11->tensorflow) (1.8.1)\n",
            "Requirement already satisfied: google-auth<3,>=1.6.3 in /usr/local/lib/python3.9/dist-packages (from tensorboard<2.12,>=2.11->tensorflow) (2.16.2)\n",
            "Requirement already satisfied: google-auth-oauthlib<0.5,>=0.4.1 in /usr/local/lib/python3.9/dist-packages (from tensorboard<2.12,>=2.11->tensorflow) (0.4.6)\n",
            "Requirement already satisfied: markdown>=2.6.8 in /usr/local/lib/python3.9/dist-packages (from tensorboard<2.12,>=2.11->tensorflow) (3.4.2)\n",
            "Requirement already satisfied: requests<3,>=2.21.0 in /usr/local/lib/python3.9/dist-packages (from tensorboard<2.12,>=2.11->tensorflow) (2.27.1)\n",
            "Requirement already satisfied: werkzeug>=1.0.1 in /usr/local/lib/python3.9/dist-packages (from tensorboard<2.12,>=2.11->tensorflow) (2.2.3)\n",
            "Requirement already satisfied: tensorboard-data-server<0.7.0,>=0.6.0 in /usr/local/lib/python3.9/dist-packages (from tensorboard<2.12,>=2.11->tensorflow) (0.6.1)\n",
            "Requirement already satisfied: pyasn1-modules>=0.2.1 in /usr/local/lib/python3.9/dist-packages (from google-auth<3,>=1.6.3->tensorboard<2.12,>=2.11->tensorflow) (0.2.8)\n",
            "Requirement already satisfied: rsa<5,>=3.1.4 in /usr/local/lib/python3.9/dist-packages (from google-auth<3,>=1.6.3->tensorboard<2.12,>=2.11->tensorflow) (4.9)\n",
            "Requirement already satisfied: cachetools<6.0,>=2.0.0 in /usr/local/lib/python3.9/dist-packages (from google-auth<3,>=1.6.3->tensorboard<2.12,>=2.11->tensorflow) (5.3.0)\n",
            "Requirement already satisfied: requests-oauthlib>=0.7.0 in /usr/local/lib/python3.9/dist-packages (from google-auth-oauthlib<0.5,>=0.4.1->tensorboard<2.12,>=2.11->tensorflow) (1.3.1)\n",
            "Requirement already satisfied: importlib-metadata>=4.4 in /usr/local/lib/python3.9/dist-packages (from markdown>=2.6.8->tensorboard<2.12,>=2.11->tensorflow) (6.1.0)\n",
            "Requirement already satisfied: idna<4,>=2.5 in /usr/local/lib/python3.9/dist-packages (from requests<3,>=2.21.0->tensorboard<2.12,>=2.11->tensorflow) (3.4)\n",
            "Requirement already satisfied: urllib3<1.27,>=1.21.1 in /usr/local/lib/python3.9/dist-packages (from requests<3,>=2.21.0->tensorboard<2.12,>=2.11->tensorflow) (1.26.15)\n",
            "Requirement already satisfied: charset-normalizer~=2.0.0 in /usr/local/lib/python3.9/dist-packages (from requests<3,>=2.21.0->tensorboard<2.12,>=2.11->tensorflow) (2.0.12)\n",
            "Requirement already satisfied: certifi>=2017.4.17 in /usr/local/lib/python3.9/dist-packages (from requests<3,>=2.21.0->tensorboard<2.12,>=2.11->tensorflow) (2022.12.7)\n",
            "Requirement already satisfied: MarkupSafe>=2.1.1 in /usr/local/lib/python3.9/dist-packages (from werkzeug>=1.0.1->tensorboard<2.12,>=2.11->tensorflow) (2.1.2)\n",
            "Requirement already satisfied: zipp>=0.5 in /usr/local/lib/python3.9/dist-packages (from importlib-metadata>=4.4->markdown>=2.6.8->tensorboard<2.12,>=2.11->tensorflow) (3.15.0)\n",
            "Requirement already satisfied: pyasn1<0.5.0,>=0.4.6 in /usr/local/lib/python3.9/dist-packages (from pyasn1-modules>=0.2.1->google-auth<3,>=1.6.3->tensorboard<2.12,>=2.11->tensorflow) (0.4.8)\n",
            "Requirement already satisfied: oauthlib>=3.0.0 in /usr/local/lib/python3.9/dist-packages (from requests-oauthlib>=0.7.0->google-auth-oauthlib<0.5,>=0.4.1->tensorboard<2.12,>=2.11->tensorflow) (3.2.2)\n"
          ]
        }
      ]
    },
    {
      "cell_type": "code",
      "execution_count": 31,
      "metadata": {
        "id": "oPnFxGguikrD"
      },
      "outputs": [],
      "source": [
        "#LSTM for stock prediction\n",
        "import math\n",
        "import pandas_datareader as web\n",
        "import numpy as np\n",
        "import pandas as pd\n",
        "from sklearn.preprocessing import MinMaxScaler\n",
        "from keras.models import Sequential\n",
        "from keras.layers import Dense, LSTM\n",
        "import matplotlib.pyplot as plt\n",
        "plt.style.use('fivethirtyeight')"
      ]
    },
    {
      "cell_type": "code",
      "source": [
        "!pip install yfinance"
      ],
      "metadata": {
        "colab": {
          "base_uri": "https://localhost:8080/"
        },
        "id": "lCPoK-nGmzyn",
        "outputId": "931a0eaa-9b27-4f80-f58f-499e34b4538e"
      },
      "execution_count": 32,
      "outputs": [
        {
          "output_type": "stream",
          "name": "stdout",
          "text": [
            "Looking in indexes: https://pypi.org/simple, https://us-python.pkg.dev/colab-wheels/public/simple/\n",
            "Requirement already satisfied: yfinance in /usr/local/lib/python3.9/dist-packages (0.2.13)\n",
            "Requirement already satisfied: lxml>=4.9.1 in /usr/local/lib/python3.9/dist-packages (from yfinance) (4.9.2)\n",
            "Requirement already satisfied: html5lib>=1.1 in /usr/local/lib/python3.9/dist-packages (from yfinance) (1.1)\n",
            "Requirement already satisfied: cryptography>=3.3.2 in /usr/local/lib/python3.9/dist-packages (from yfinance) (39.0.2)\n",
            "Requirement already satisfied: beautifulsoup4>=4.11.1 in /usr/local/lib/python3.9/dist-packages (from yfinance) (4.11.2)\n",
            "Requirement already satisfied: pytz>=2022.5 in /usr/local/lib/python3.9/dist-packages (from yfinance) (2022.7.1)\n",
            "Requirement already satisfied: pandas>=1.3.0 in /usr/local/lib/python3.9/dist-packages (from yfinance) (1.4.4)\n",
            "Requirement already satisfied: numpy>=1.16.5 in /usr/local/lib/python3.9/dist-packages (from yfinance) (1.22.4)\n",
            "Requirement already satisfied: multitasking>=0.0.7 in /usr/local/lib/python3.9/dist-packages (from yfinance) (0.0.11)\n",
            "Requirement already satisfied: frozendict>=2.3.4 in /usr/local/lib/python3.9/dist-packages (from yfinance) (2.3.6)\n",
            "Requirement already satisfied: requests>=2.26 in /usr/local/lib/python3.9/dist-packages (from yfinance) (2.27.1)\n",
            "Requirement already satisfied: appdirs>=1.4.4 in /usr/local/lib/python3.9/dist-packages (from yfinance) (1.4.4)\n",
            "Requirement already satisfied: soupsieve>1.2 in /usr/local/lib/python3.9/dist-packages (from beautifulsoup4>=4.11.1->yfinance) (2.4)\n",
            "Requirement already satisfied: cffi>=1.12 in /usr/local/lib/python3.9/dist-packages (from cryptography>=3.3.2->yfinance) (1.15.1)\n",
            "Requirement already satisfied: webencodings in /usr/local/lib/python3.9/dist-packages (from html5lib>=1.1->yfinance) (0.5.1)\n",
            "Requirement already satisfied: six>=1.9 in /usr/local/lib/python3.9/dist-packages (from html5lib>=1.1->yfinance) (1.16.0)\n",
            "Requirement already satisfied: python-dateutil>=2.8.1 in /usr/local/lib/python3.9/dist-packages (from pandas>=1.3.0->yfinance) (2.8.2)\n",
            "Requirement already satisfied: idna<4,>=2.5 in /usr/local/lib/python3.9/dist-packages (from requests>=2.26->yfinance) (3.4)\n",
            "Requirement already satisfied: urllib3<1.27,>=1.21.1 in /usr/local/lib/python3.9/dist-packages (from requests>=2.26->yfinance) (1.26.15)\n",
            "Requirement already satisfied: charset-normalizer~=2.0.0 in /usr/local/lib/python3.9/dist-packages (from requests>=2.26->yfinance) (2.0.12)\n",
            "Requirement already satisfied: certifi>=2017.4.17 in /usr/local/lib/python3.9/dist-packages (from requests>=2.26->yfinance) (2022.12.7)\n",
            "Requirement already satisfied: pycparser in /usr/local/lib/python3.9/dist-packages (from cffi>=1.12->cryptography>=3.3.2->yfinance) (2.21)\n"
          ]
        }
      ]
    },
    {
      "cell_type": "code",
      "source": [
        "import yfinance as yf"
      ],
      "metadata": {
        "id": "xzlOZIh_sqRu"
      },
      "execution_count": 33,
      "outputs": []
    },
    {
      "cell_type": "code",
      "source": [
        "import datetime"
      ],
      "metadata": {
        "id": "7OG0Blw_tlKf"
      },
      "execution_count": 34,
      "outputs": []
    },
    {
      "cell_type": "code",
      "source": [],
      "metadata": {
        "id": "PkQQZiggh7Ak"
      },
      "execution_count": 34,
      "outputs": []
    },
    {
      "cell_type": "code",
      "source": [
        "enddate=datetime.date.today()\n",
        "enddate\n"
      ],
      "metadata": {
        "id": "_2OWnkFT81rg",
        "colab": {
          "base_uri": "https://localhost:8080/"
        },
        "outputId": "27a796b6-e0bf-4218-f78b-7dec8752dd58"
      },
      "execution_count": 35,
      "outputs": [
        {
          "output_type": "execute_result",
          "data": {
            "text/plain": [
              "datetime.date(2023, 3, 27)"
            ]
          },
          "metadata": {},
          "execution_count": 35
        }
      ]
    },
    {
      "cell_type": "code",
      "source": [
        "info = yf.download(tickers=\"RELIANCE.NS\", start=\"2013-01-01\", end=enddate)"
      ],
      "metadata": {
        "colab": {
          "base_uri": "https://localhost:8080/"
        },
        "id": "ez7vWszDswnM",
        "outputId": "b3fc15f1-5185-4f4b-be54-425d016da873"
      },
      "execution_count": 36,
      "outputs": [
        {
          "output_type": "stream",
          "name": "stdout",
          "text": [
            "\r[*********************100%***********************]  1 of 1 completed\n"
          ]
        }
      ]
    },
    {
      "cell_type": "code",
      "source": [
        "info"
      ],
      "metadata": {
        "colab": {
          "base_uri": "https://localhost:8080/",
          "height": 450
        },
        "id": "NCrCDo-gthtH",
        "outputId": "9da93165-53c2-4576-cda1-3fafe4ed8582"
      },
      "execution_count": 37,
      "outputs": [
        {
          "output_type": "execute_result",
          "data": {
            "text/plain": [
              "                   Open         High          Low        Close    Adj Close  \\\n",
              "Date                                                                          \n",
              "2013-01-01   418.037415   419.325226   415.610443   416.402924   387.885132   \n",
              "2013-01-02   418.037415   423.981079   417.319244   419.993866   391.230133   \n",
              "2013-01-03   420.315826   426.952911   418.334595   426.333771   397.135834   \n",
              "2013-01-04   426.903381   428.240692   422.767578   426.878632   397.643402   \n",
              "2013-01-07   428.785553   431.410645   421.900787   424.278259   395.221130   \n",
              "...                 ...          ...          ...          ...          ...   \n",
              "2023-03-20  2215.000000  2220.000000  2180.000000  2201.250000  2201.250000   \n",
              "2023-03-21  2218.949951  2274.000000  2217.000000  2269.699951  2269.699951   \n",
              "2023-03-22  2285.000000  2291.449951  2270.000000  2276.600098  2276.600098   \n",
              "2023-03-23  2268.000000  2269.899902  2243.050049  2247.800049  2247.800049   \n",
              "2023-03-24  2245.250000  2250.000000  2198.000000  2203.300049  2203.300049   \n",
              "\n",
              "             Volume  \n",
              "Date                 \n",
              "2013-01-01  3152667  \n",
              "2013-01-02  6203434  \n",
              "2013-01-03  7968629  \n",
              "2013-01-04  6140890  \n",
              "2013-01-07  7064261  \n",
              "...             ...  \n",
              "2023-03-20  9010595  \n",
              "2023-03-21  9876263  \n",
              "2023-03-22  5039622  \n",
              "2023-03-23  7499082  \n",
              "2023-03-24  5711497  \n",
              "\n",
              "[2526 rows x 6 columns]"
            ],
            "text/html": [
              "\n",
              "  <div id=\"df-414e5a5a-4ca4-44e1-9be0-a0ea80a32714\">\n",
              "    <div class=\"colab-df-container\">\n",
              "      <div>\n",
              "<style scoped>\n",
              "    .dataframe tbody tr th:only-of-type {\n",
              "        vertical-align: middle;\n",
              "    }\n",
              "\n",
              "    .dataframe tbody tr th {\n",
              "        vertical-align: top;\n",
              "    }\n",
              "\n",
              "    .dataframe thead th {\n",
              "        text-align: right;\n",
              "    }\n",
              "</style>\n",
              "<table border=\"1\" class=\"dataframe\">\n",
              "  <thead>\n",
              "    <tr style=\"text-align: right;\">\n",
              "      <th></th>\n",
              "      <th>Open</th>\n",
              "      <th>High</th>\n",
              "      <th>Low</th>\n",
              "      <th>Close</th>\n",
              "      <th>Adj Close</th>\n",
              "      <th>Volume</th>\n",
              "    </tr>\n",
              "    <tr>\n",
              "      <th>Date</th>\n",
              "      <th></th>\n",
              "      <th></th>\n",
              "      <th></th>\n",
              "      <th></th>\n",
              "      <th></th>\n",
              "      <th></th>\n",
              "    </tr>\n",
              "  </thead>\n",
              "  <tbody>\n",
              "    <tr>\n",
              "      <th>2013-01-01</th>\n",
              "      <td>418.037415</td>\n",
              "      <td>419.325226</td>\n",
              "      <td>415.610443</td>\n",
              "      <td>416.402924</td>\n",
              "      <td>387.885132</td>\n",
              "      <td>3152667</td>\n",
              "    </tr>\n",
              "    <tr>\n",
              "      <th>2013-01-02</th>\n",
              "      <td>418.037415</td>\n",
              "      <td>423.981079</td>\n",
              "      <td>417.319244</td>\n",
              "      <td>419.993866</td>\n",
              "      <td>391.230133</td>\n",
              "      <td>6203434</td>\n",
              "    </tr>\n",
              "    <tr>\n",
              "      <th>2013-01-03</th>\n",
              "      <td>420.315826</td>\n",
              "      <td>426.952911</td>\n",
              "      <td>418.334595</td>\n",
              "      <td>426.333771</td>\n",
              "      <td>397.135834</td>\n",
              "      <td>7968629</td>\n",
              "    </tr>\n",
              "    <tr>\n",
              "      <th>2013-01-04</th>\n",
              "      <td>426.903381</td>\n",
              "      <td>428.240692</td>\n",
              "      <td>422.767578</td>\n",
              "      <td>426.878632</td>\n",
              "      <td>397.643402</td>\n",
              "      <td>6140890</td>\n",
              "    </tr>\n",
              "    <tr>\n",
              "      <th>2013-01-07</th>\n",
              "      <td>428.785553</td>\n",
              "      <td>431.410645</td>\n",
              "      <td>421.900787</td>\n",
              "      <td>424.278259</td>\n",
              "      <td>395.221130</td>\n",
              "      <td>7064261</td>\n",
              "    </tr>\n",
              "    <tr>\n",
              "      <th>...</th>\n",
              "      <td>...</td>\n",
              "      <td>...</td>\n",
              "      <td>...</td>\n",
              "      <td>...</td>\n",
              "      <td>...</td>\n",
              "      <td>...</td>\n",
              "    </tr>\n",
              "    <tr>\n",
              "      <th>2023-03-20</th>\n",
              "      <td>2215.000000</td>\n",
              "      <td>2220.000000</td>\n",
              "      <td>2180.000000</td>\n",
              "      <td>2201.250000</td>\n",
              "      <td>2201.250000</td>\n",
              "      <td>9010595</td>\n",
              "    </tr>\n",
              "    <tr>\n",
              "      <th>2023-03-21</th>\n",
              "      <td>2218.949951</td>\n",
              "      <td>2274.000000</td>\n",
              "      <td>2217.000000</td>\n",
              "      <td>2269.699951</td>\n",
              "      <td>2269.699951</td>\n",
              "      <td>9876263</td>\n",
              "    </tr>\n",
              "    <tr>\n",
              "      <th>2023-03-22</th>\n",
              "      <td>2285.000000</td>\n",
              "      <td>2291.449951</td>\n",
              "      <td>2270.000000</td>\n",
              "      <td>2276.600098</td>\n",
              "      <td>2276.600098</td>\n",
              "      <td>5039622</td>\n",
              "    </tr>\n",
              "    <tr>\n",
              "      <th>2023-03-23</th>\n",
              "      <td>2268.000000</td>\n",
              "      <td>2269.899902</td>\n",
              "      <td>2243.050049</td>\n",
              "      <td>2247.800049</td>\n",
              "      <td>2247.800049</td>\n",
              "      <td>7499082</td>\n",
              "    </tr>\n",
              "    <tr>\n",
              "      <th>2023-03-24</th>\n",
              "      <td>2245.250000</td>\n",
              "      <td>2250.000000</td>\n",
              "      <td>2198.000000</td>\n",
              "      <td>2203.300049</td>\n",
              "      <td>2203.300049</td>\n",
              "      <td>5711497</td>\n",
              "    </tr>\n",
              "  </tbody>\n",
              "</table>\n",
              "<p>2526 rows × 6 columns</p>\n",
              "</div>\n",
              "      <button class=\"colab-df-convert\" onclick=\"convertToInteractive('df-414e5a5a-4ca4-44e1-9be0-a0ea80a32714')\"\n",
              "              title=\"Convert this dataframe to an interactive table.\"\n",
              "              style=\"display:none;\">\n",
              "        \n",
              "  <svg xmlns=\"http://www.w3.org/2000/svg\" height=\"24px\"viewBox=\"0 0 24 24\"\n",
              "       width=\"24px\">\n",
              "    <path d=\"M0 0h24v24H0V0z\" fill=\"none\"/>\n",
              "    <path d=\"M18.56 5.44l.94 2.06.94-2.06 2.06-.94-2.06-.94-.94-2.06-.94 2.06-2.06.94zm-11 1L8.5 8.5l.94-2.06 2.06-.94-2.06-.94L8.5 2.5l-.94 2.06-2.06.94zm10 10l.94 2.06.94-2.06 2.06-.94-2.06-.94-.94-2.06-.94 2.06-2.06.94z\"/><path d=\"M17.41 7.96l-1.37-1.37c-.4-.4-.92-.59-1.43-.59-.52 0-1.04.2-1.43.59L10.3 9.45l-7.72 7.72c-.78.78-.78 2.05 0 2.83L4 21.41c.39.39.9.59 1.41.59.51 0 1.02-.2 1.41-.59l7.78-7.78 2.81-2.81c.8-.78.8-2.07 0-2.86zM5.41 20L4 18.59l7.72-7.72 1.47 1.35L5.41 20z\"/>\n",
              "  </svg>\n",
              "      </button>\n",
              "      \n",
              "  <style>\n",
              "    .colab-df-container {\n",
              "      display:flex;\n",
              "      flex-wrap:wrap;\n",
              "      gap: 12px;\n",
              "    }\n",
              "\n",
              "    .colab-df-convert {\n",
              "      background-color: #E8F0FE;\n",
              "      border: none;\n",
              "      border-radius: 50%;\n",
              "      cursor: pointer;\n",
              "      display: none;\n",
              "      fill: #1967D2;\n",
              "      height: 32px;\n",
              "      padding: 0 0 0 0;\n",
              "      width: 32px;\n",
              "    }\n",
              "\n",
              "    .colab-df-convert:hover {\n",
              "      background-color: #E2EBFA;\n",
              "      box-shadow: 0px 1px 2px rgba(60, 64, 67, 0.3), 0px 1px 3px 1px rgba(60, 64, 67, 0.15);\n",
              "      fill: #174EA6;\n",
              "    }\n",
              "\n",
              "    [theme=dark] .colab-df-convert {\n",
              "      background-color: #3B4455;\n",
              "      fill: #D2E3FC;\n",
              "    }\n",
              "\n",
              "    [theme=dark] .colab-df-convert:hover {\n",
              "      background-color: #434B5C;\n",
              "      box-shadow: 0px 1px 3px 1px rgba(0, 0, 0, 0.15);\n",
              "      filter: drop-shadow(0px 1px 2px rgba(0, 0, 0, 0.3));\n",
              "      fill: #FFFFFF;\n",
              "    }\n",
              "  </style>\n",
              "\n",
              "      <script>\n",
              "        const buttonEl =\n",
              "          document.querySelector('#df-414e5a5a-4ca4-44e1-9be0-a0ea80a32714 button.colab-df-convert');\n",
              "        buttonEl.style.display =\n",
              "          google.colab.kernel.accessAllowed ? 'block' : 'none';\n",
              "\n",
              "        async function convertToInteractive(key) {\n",
              "          const element = document.querySelector('#df-414e5a5a-4ca4-44e1-9be0-a0ea80a32714');\n",
              "          const dataTable =\n",
              "            await google.colab.kernel.invokeFunction('convertToInteractive',\n",
              "                                                     [key], {});\n",
              "          if (!dataTable) return;\n",
              "\n",
              "          const docLinkHtml = 'Like what you see? Visit the ' +\n",
              "            '<a target=\"_blank\" href=https://colab.research.google.com/notebooks/data_table.ipynb>data table notebook</a>'\n",
              "            + ' to learn more about interactive tables.';\n",
              "          element.innerHTML = '';\n",
              "          dataTable['output_type'] = 'display_data';\n",
              "          await google.colab.output.renderOutput(dataTable, element);\n",
              "          const docLink = document.createElement('div');\n",
              "          docLink.innerHTML = docLinkHtml;\n",
              "          element.appendChild(docLink);\n",
              "        }\n",
              "      </script>\n",
              "    </div>\n",
              "  </div>\n",
              "  "
            ]
          },
          "metadata": {},
          "execution_count": 37
        }
      ]
    },
    {
      "cell_type": "code",
      "source": [
        "info.shape"
      ],
      "metadata": {
        "colab": {
          "base_uri": "https://localhost:8080/"
        },
        "id": "bvwk77MOv7-J",
        "outputId": "ea277278-75a5-46ce-d1e6-1ff968d0c47e"
      },
      "execution_count": 38,
      "outputs": [
        {
          "output_type": "execute_result",
          "data": {
            "text/plain": [
              "(2526, 6)"
            ]
          },
          "metadata": {},
          "execution_count": 38
        }
      ]
    },
    {
      "cell_type": "code",
      "source": [
        "plt.figure(figsize=(16,5))\n",
        "plt.title('Close Price History')\n",
        "plt.plot(info['Close'])\n",
        "plt.xlabel('Date', fontsize=18)\n",
        "plt.ylabel('Closing Price(in rupees)', fontsize=16)\n",
        "plt.show()"
      ],
      "metadata": {
        "colab": {
          "base_uri": "https://localhost:8080/",
          "height": 383
        },
        "id": "a33p_qLcwKEv",
        "outputId": "e377454f-4861-4301-bee2-c414dc924562"
      },
      "execution_count": 39,
      "outputs": [
        {
          "output_type": "display_data",
          "data": {
            "text/plain": [
              "<Figure size 1152x360 with 1 Axes>"
            ],
            "image/png": "[encoded data removed]"
          },
          "metadata": {}
        }
      ]
    },
    {
      "cell_type": "code",
      "source": [
        "# new dataframe with close price option\n",
        "data = info.filter(['Close'])\n",
        "#dataframe into numpy array\n",
        "dataset = data.values\n",
        "\n",
        "training_data_len=math.ceil(len(dataset) * .8)\n",
        "\n",
        "training_data_len\n"
      ],
      "metadata": {
        "id": "ZNf_MHzoyNnr",
        "colab": {
          "base_uri": "https://localhost:8080/"
        },
        "outputId": "41a62fc4-49b9-4057-ce4a-b03b64b4c0e7"
      },
      "execution_count": 40,
      "outputs": [
        {
          "output_type": "execute_result",
          "data": {
            "text/plain": [
              "2021"
            ]
          },
          "metadata": {},
          "execution_count": 40
        }
      ]
    },
    {
      "cell_type": "code",
      "source": [
        "# train_size = int(len(data) * 0.8)\n",
        "# train_data = data[:train_size]\n",
        "# test_data = data[train_size:]\n",
        "\n",
        "# # Create a validation set from the training set\n",
        "# val_size = int(len(train_data) * 0.2)\n",
        "# val_data = train_data[:val_size]\n",
        "# train_data = train_data[val_size:]\n",
        "\n",
        "# # Normalize the data within each sequence\n",
        "# scaler = MinMaxScaler()\n",
        "# train_data = scaler.fit_transform(train_data)\n",
        "# val_data = scaler.transform(val_data)\n",
        "# test_data = scaler.transform(test_data)"
      ],
      "metadata": {
        "id": "CpR9aOTBoh3j"
      },
      "execution_count": 41,
      "outputs": []
    },
    {
      "cell_type": "code",
      "source": [
        "#scale the data\n",
        "scaler = MinMaxScaler(feature_range=(0,1))\n",
        "scaled_data = scaler.fit_transform(dataset)\n",
        "scaled_data"
      ],
      "metadata": {
        "colab": {
          "base_uri": "https://localhost:8080/"
        },
        "id": "o-4tuO0E01Km",
        "outputId": "833e2d2b-acd8-43be-d2e8-5b79d4a9fb70"
      },
      "execution_count": 42,
      "outputs": [
        {
          "output_type": "execute_result",
          "data": {
            "text/plain": [
              "array([[0.01485096],\n",
              "       [0.01632285],\n",
              "       [0.01892151],\n",
              "       ...,\n",
              "       [0.77732724],\n",
              "       [0.76552239],\n",
              "       [0.74728228]])"
            ]
          },
          "metadata": {},
          "execution_count": 42
        }
      ]
    },
    {
      "cell_type": "code",
      "source": [],
      "metadata": {
        "id": "bQzhr1JNrr_i"
      },
      "execution_count": 42,
      "outputs": []
    },
    {
      "cell_type": "code",
      "source": [
        "# scaled training data set\n",
        "train_data = scaled_data[0:training_data_len, :]\n",
        "x_train = []\n",
        "y_train = []\n",
        "for i in range(60, len(train_data)):\n",
        "  x_train.append(train_data[i-60:i, 0])\n",
        "  y_train.append(train_data[i,0])\n",
        "  if i<=61:\n",
        "    print(x_train)\n",
        "    print(y_train)\n",
        "    print()\n",
        "\n"
      ],
      "metadata": {
        "colab": {
          "base_uri": "https://localhost:8080/"
        },
        "id": "AyaW-3tZ2M61",
        "outputId": "57bd6fb0-1e2d-4f90-fa83-a3a5f39569be"
      },
      "execution_count": 43,
      "outputs": [
        {
          "output_type": "stream",
          "name": "stdout",
          "text": [
            "[array([0.01485096, 0.01632285, 0.01892151, 0.01914485, 0.01807898,\n",
            "       0.01687101, 0.01728721, 0.0167492 , 0.01468854, 0.01624164,\n",
            "       0.01616043, 0.01904332, 0.02485987, 0.02693068, 0.03094033,\n",
            "       0.03096063, 0.0315697 , 0.03004705, 0.02936693, 0.02639268,\n",
            "       0.02340828, 0.02676827, 0.02417975, 0.02567195, 0.0241899 ,\n",
            "       0.02176381, 0.02194653, 0.02138822, 0.01948998, 0.02047463,\n",
            "       0.02190593, 0.02262665, 0.01796733, 0.01588637, 0.0162315 ,\n",
            "       0.01641421, 0.02177396, 0.01860684, 0.0192971 , 0.01762218,\n",
            "       0.011359  , 0.01294256, 0.00939985, 0.00869943, 0.00914607,\n",
            "       0.01193761, 0.01374449, 0.01399827, 0.01700297, 0.01562243,\n",
            "       0.01630255, 0.01572394, 0.0187794 , 0.01544987, 0.01355163,\n",
            "       0.01166353, 0.01119659, 0.00914607, 0.00874003, 0.00846595])]\n",
            "[0.003207719742393228]\n",
            "\n",
            "[array([0.01485096, 0.01632285, 0.01892151, 0.01914485, 0.01807898,\n",
            "       0.01687101, 0.01728721, 0.0167492 , 0.01468854, 0.01624164,\n",
            "       0.01616043, 0.01904332, 0.02485987, 0.02693068, 0.03094033,\n",
            "       0.03096063, 0.0315697 , 0.03004705, 0.02936693, 0.02639268,\n",
            "       0.02340828, 0.02676827, 0.02417975, 0.02567195, 0.0241899 ,\n",
            "       0.02176381, 0.02194653, 0.02138822, 0.01948998, 0.02047463,\n",
            "       0.02190593, 0.02262665, 0.01796733, 0.01588637, 0.0162315 ,\n",
            "       0.01641421, 0.02177396, 0.01860684, 0.0192971 , 0.01762218,\n",
            "       0.011359  , 0.01294256, 0.00939985, 0.00869943, 0.00914607,\n",
            "       0.01193761, 0.01374449, 0.01399827, 0.01700297, 0.01562243,\n",
            "       0.01630255, 0.01572394, 0.0187794 , 0.01544987, 0.01355163,\n",
            "       0.01166353, 0.01119659, 0.00914607, 0.00874003, 0.00846595]), array([0.01632285, 0.01892151, 0.01914485, 0.01807898, 0.01687101,\n",
            "       0.01728721, 0.0167492 , 0.01468854, 0.01624164, 0.01616043,\n",
            "       0.01904332, 0.02485987, 0.02693068, 0.03094033, 0.03096063,\n",
            "       0.0315697 , 0.03004705, 0.02936693, 0.02639268, 0.02340828,\n",
            "       0.02676827, 0.02417975, 0.02567195, 0.0241899 , 0.02176381,\n",
            "       0.02194653, 0.02138822, 0.01948998, 0.02047463, 0.02190593,\n",
            "       0.02262665, 0.01796733, 0.01588637, 0.0162315 , 0.01641421,\n",
            "       0.02177396, 0.01860684, 0.0192971 , 0.01762218, 0.011359  ,\n",
            "       0.01294256, 0.00939985, 0.00869943, 0.00914607, 0.01193761,\n",
            "       0.01374449, 0.01399827, 0.01700297, 0.01562243, 0.01630255,\n",
            "       0.01572394, 0.0187794 , 0.01544987, 0.01355163, 0.01166353,\n",
            "       0.01119659, 0.00914607, 0.00874003, 0.00846595, 0.00320772])]\n",
            "[0.003207719742393228, 0.001086156050444348]\n",
            "\n"
          ]
        }
      ]
    },
    {
      "cell_type": "code",
      "source": [
        "x_train, y_train = np.array(x_train), np.array(y_train)"
      ],
      "metadata": {
        "id": "DsxMjADd6wrT"
      },
      "execution_count": 44,
      "outputs": []
    },
    {
      "cell_type": "code",
      "source": [
        "x_train.shape"
      ],
      "metadata": {
        "colab": {
          "base_uri": "https://localhost:8080/"
        },
        "id": "KuUwlPys8KHx",
        "outputId": "2317906b-b8f7-4332-daf6-807fbc8a8c21"
      },
      "execution_count": 45,
      "outputs": [
        {
          "output_type": "execute_result",
          "data": {
            "text/plain": [
              "(1961, 60)"
            ]
          },
          "metadata": {},
          "execution_count": 45
        }
      ]
    },
    {
      "cell_type": "code",
      "source": [
        "y_train.shape\n"
      ],
      "metadata": {
        "colab": {
          "base_uri": "https://localhost:8080/"
        },
        "id": "-IomuHpSwkR0",
        "outputId": "8bf27eed-7287-4b70-a92c-4f03ff243f11"
      },
      "execution_count": 46,
      "outputs": [
        {
          "output_type": "execute_result",
          "data": {
            "text/plain": [
              "(1961,)"
            ]
          },
          "metadata": {},
          "execution_count": 46
        }
      ]
    },
    {
      "cell_type": "code",
      "source": [
        "x_train = np.reshape(x_train, (x_train.shape[0],x_train.shape[1],1))\n",
        "x_train.shape"
      ],
      "metadata": {
        "id": "nxVhHLrF8OPf",
        "colab": {
          "base_uri": "https://localhost:8080/"
        },
        "outputId": "4469ac77-3da7-4148-b4d6-f2e9a2ca15a1"
      },
      "execution_count": 47,
      "outputs": [
        {
          "output_type": "execute_result",
          "data": {
            "text/plain": [
              "(1961, 60, 1)"
            ]
          },
          "metadata": {},
          "execution_count": 47
        }
      ]
    },
    {
      "cell_type": "code",
      "source": [
        "#LSTM model\n",
        "# \n",
        "model = Sequential()\n",
        "model.add(LSTM(100, return_sequences=True, input_shape=(x_train.shape[1], 1)))\n",
        "model.add(LSTM(50,return_sequences=False))\n",
        "model.add(Dense(50))\n",
        "model.add(Dense(1))"
      ],
      "metadata": {
        "id": "Csfvi1ph-BWS"
      },
      "execution_count": 48,
      "outputs": []
    },
    {
      "cell_type": "code",
      "source": [
        "model.compile(optimizer='adam', loss='mean_squared_error')"
      ],
      "metadata": {
        "id": "9HcVrPez_fwK"
      },
      "execution_count": 49,
      "outputs": []
    },
    {
      "cell_type": "code",
      "source": [
        "model.fit(x_train, y_train, batch_size=16, epochs=25)\n",
        "# model.fit(X_train, y_train, epochs=5, validation_data=(X_val, y_val), batch_size=32)\n"
      ],
      "metadata": {
        "colab": {
          "base_uri": "https://localhost:8080/"
        },
        "id": "vQahMVkO_swK",
        "outputId": "3ba7f884-75cc-459f-9857-050b05a4a78a"
      },
      "execution_count": 50,
      "outputs": [
        {
          "output_type": "stream",
          "name": "stdout",
          "text": [
            "Epoch 1/25\n",
            "123/123 [==============================] - 23s 141ms/step - loss: 0.0024\n",
            "Epoch 2/25\n",
            "123/123 [==============================] - 14s 116ms/step - loss: 3.7987e-04\n",
            "Epoch 3/25\n",
            "123/123 [==============================] - 10s 82ms/step - loss: 3.6268e-04\n",
            "Epoch 4/25\n",
            "123/123 [==============================] - 9s 75ms/step - loss: 3.4882e-04\n",
            "Epoch 5/25\n",
            "123/123 [==============================] - 10s 80ms/step - loss: 2.7424e-04\n",
            "Epoch 6/25\n",
            "123/123 [==============================] - 10s 84ms/step - loss: 2.8787e-04\n",
            "Epoch 7/25\n",
            "123/123 [==============================] - 10s 82ms/step - loss: 2.5499e-04\n",
            "Epoch 8/25\n",
            "123/123 [==============================] - 9s 73ms/step - loss: 3.6464e-04\n",
            "Epoch 9/25\n",
            "123/123 [==============================] - 10s 83ms/step - loss: 2.2258e-04\n",
            "Epoch 10/25\n",
            "123/123 [==============================] - 10s 82ms/step - loss: 2.1016e-04\n",
            "Epoch 11/25\n",
            "123/123 [==============================] - 10s 83ms/step - loss: 2.8075e-04\n",
            "Epoch 12/25\n",
            "123/123 [==============================] - 10s 80ms/step - loss: 2.1976e-04\n",
            "Epoch 13/25\n",
            "123/123 [==============================] - 10s 83ms/step - loss: 1.6263e-04\n",
            "Epoch 14/25\n",
            "123/123 [==============================] - 10s 83ms/step - loss: 1.5995e-04\n",
            "Epoch 15/25\n",
            "123/123 [==============================] - 9s 71ms/step - loss: 1.8813e-04\n",
            "Epoch 16/25\n",
            "123/123 [==============================] - 10s 84ms/step - loss: 1.7283e-04\n",
            "Epoch 17/25\n",
            "123/123 [==============================] - 10s 84ms/step - loss: 1.3234e-04\n",
            "Epoch 18/25\n",
            "123/123 [==============================] - 9s 74ms/step - loss: 1.4583e-04\n",
            "Epoch 19/25\n",
            "123/123 [==============================] - 10s 81ms/step - loss: 1.4098e-04\n",
            "Epoch 20/25\n",
            "123/123 [==============================] - 10s 84ms/step - loss: 1.4441e-04\n",
            "Epoch 21/25\n",
            "123/123 [==============================] - 10s 84ms/step - loss: 1.4436e-04\n",
            "Epoch 22/25\n",
            "123/123 [==============================] - 9s 73ms/step - loss: 9.9210e-05\n",
            "Epoch 23/25\n",
            "123/123 [==============================] - 10s 85ms/step - loss: 1.7882e-04\n",
            "Epoch 24/25\n",
            "123/123 [==============================] - 10s 85ms/step - loss: 1.2080e-04\n",
            "Epoch 25/25\n",
            "123/123 [==============================] - 10s 78ms/step - loss: 1.1000e-04\n"
          ]
        },
        {
          "output_type": "execute_result",
          "data": {
            "text/plain": [
              "<keras.callbacks.History at 0x7f49bd53fa00>"
            ]
          },
          "metadata": {},
          "execution_count": 50
        }
      ]
    },
    {
      "cell_type": "code",
      "source": [
        "test_data = scaled_data[training_data_len - 60: , :]\n",
        "\n",
        "x_test = []\n",
        "y_test = dataset[training_data_len:, :]\n",
        "for i in range(60, len(test_data)):\n",
        "  x_test.append(test_data[i-60:i, 0])"
      ],
      "metadata": {
        "id": "P72-HiUHB8N4"
      },
      "execution_count": 51,
      "outputs": []
    },
    {
      "cell_type": "code",
      "source": [
        "#data to numoy array\n",
        "x_test = np.array(x_test)\n",
        "x_test.shape"
      ],
      "metadata": {
        "colab": {
          "base_uri": "https://localhost:8080/"
        },
        "id": "csmvWkyiCwms",
        "outputId": "6130325d-aadb-4a86-9f21-35332da9c36a"
      },
      "execution_count": 52,
      "outputs": [
        {
          "output_type": "execute_result",
          "data": {
            "text/plain": [
              "(505, 60)"
            ]
          },
          "metadata": {},
          "execution_count": 52
        }
      ]
    },
    {
      "cell_type": "code",
      "source": [
        "#reshape\n",
        "x_test = np.reshape(x_test, (x_test.shape[0],x_test.shape[1],1))"
      ],
      "metadata": {
        "id": "ZXbNaO2DDW74"
      },
      "execution_count": 53,
      "outputs": []
    },
    {
      "cell_type": "code",
      "source": [
        "predictions = model.predict(x_test)\n",
        "predictions = scaler.inverse_transform(predictions)\n",
        "predictions"
      ],
      "metadata": {
        "colab": {
          "base_uri": "https://localhost:8080/"
        },
        "id": "4-Wftlx6D4Hs",
        "outputId": "48bb3087-9d10-4fd6-edb6-3290d53c0e9c"
      },
      "execution_count": 54,
      "outputs": [
        {
          "output_type": "stream",
          "name": "stdout",
          "text": [
            "16/16 [==============================] - 1s 30ms/step\n"
          ]
        },
        {
          "output_type": "execute_result",
          "data": {
            "text/plain": [
              "array([[2154.6824],\n",
              "       [2121.119 ],\n",
              "       [2113.0642],\n",
              "       [2077.7441],\n",
              "       [2029.4349],\n",
              "       [2083.816 ],\n",
              "       [2089.1558],\n",
              "       [2101.0637],\n",
              "       [2066.234 ],\n",
              "       [2006.3146],\n",
              "       [1998.9097],\n",
              "       [2038.0161],\n",
              "       [2028.9897],\n",
              "       [2034.6766],\n",
              "       [2011.7101],\n",
              "       [1996.8577],\n",
              "       [2012.3584],\n",
              "       [2022.0251],\n",
              "       [2002.3398],\n",
              "       [1935.0863],\n",
              "       [1935.7561],\n",
              "       [1958.5975],\n",
              "       [1955.6177],\n",
              "       [1924.3168],\n",
              "       [1913.4708],\n",
              "       [1919.4   ],\n",
              "       [1921.4734],\n",
              "       [1948.4713],\n",
              "       [1998.4299],\n",
              "       [2015.6642],\n",
              "       [2034.0557],\n",
              "       [2011.3324],\n",
              "       [1972.8484],\n",
              "       [1931.7485],\n",
              "       [1930.849 ],\n",
              "       [1947.905 ],\n",
              "       [1953.7571],\n",
              "       [1946.43  ],\n",
              "       [1947.2528],\n",
              "       [1931.1818],\n",
              "       [1945.7812],\n",
              "       [1972.2689],\n",
              "       [2001.017 ],\n",
              "       [2012.3146],\n",
              "       [2000.5302],\n",
              "       [2009.9707],\n",
              "       [2001.5443],\n",
              "       [1979.6713],\n",
              "       [1981.2476],\n",
              "       [1991.1979],\n",
              "       [2095.1423],\n",
              "       [2179.6506],\n",
              "       [2189.682 ],\n",
              "       [2204.1428],\n",
              "       [2214.2603],\n",
              "       [2200.178 ],\n",
              "       [2231.236 ],\n",
              "       [2232.1504],\n",
              "       [2192.9543],\n",
              "       [2191.0178],\n",
              "       [2224.7576],\n",
              "       [2261.7883],\n",
              "       [2267.7422],\n",
              "       [2226.2102],\n",
              "       [2218.77  ],\n",
              "       [2234.216 ],\n",
              "       [2250.88  ],\n",
              "       [2241.7183],\n",
              "       [2217.8113],\n",
              "       [2167.4343],\n",
              "       [2116.9185],\n",
              "       [2097.7354],\n",
              "       [2103.4915],\n",
              "       [2127.523 ],\n",
              "       [2119.708 ],\n",
              "       [2138.3223],\n",
              "       [2161.498 ],\n",
              "       [2141.391 ],\n",
              "       [2119.3647],\n",
              "       [2102.839 ],\n",
              "       [2085.339 ],\n",
              "       [2095.8997],\n",
              "       [2115.6387],\n",
              "       [2106.6108],\n",
              "       [2096.529 ],\n",
              "       [2120.8367],\n",
              "       [2117.2932],\n",
              "       [2107.6028],\n",
              "       [2128.984 ],\n",
              "       [2123.5273],\n",
              "       [2093.529 ],\n",
              "       [2067.7773],\n",
              "       [2051.4414],\n",
              "       [2065.6946],\n",
              "       [2056.905 ],\n",
              "       [2083.1113],\n",
              "       [2103.7925],\n",
              "       [2117.7612],\n",
              "       [2143.6614],\n",
              "       [2108.428 ],\n",
              "       [2085.0645],\n",
              "       [2095.671 ],\n",
              "       [2129.7434],\n",
              "       [2131.493 ],\n",
              "       [2156.1018],\n",
              "       [2185.8845],\n",
              "       [2180.6553],\n",
              "       [2181.539 ],\n",
              "       [2161.6428],\n",
              "       [2170.2915],\n",
              "       [2195.9094],\n",
              "       [2218.0874],\n",
              "       [2243.4329],\n",
              "       [2242.0454],\n",
              "       [2275.6965],\n",
              "       [2273.011 ],\n",
              "       [2275.4204],\n",
              "       [2302.0095],\n",
              "       [2395.0977],\n",
              "       [2444.832 ],\n",
              "       [2451.4426],\n",
              "       [2434.2961],\n",
              "       [2426.5251],\n",
              "       [2380.734 ],\n",
              "       [2373.8105],\n",
              "       [2391.4683],\n",
              "       [2443.2327],\n",
              "       [2412.5852],\n",
              "       [2398.8538],\n",
              "       [2410.0051],\n",
              "       [2439.351 ],\n",
              "       [2499.2554],\n",
              "       [2497.1519],\n",
              "       [2525.303 ],\n",
              "       [2553.296 ],\n",
              "       [2534.908 ],\n",
              "       [2520.3848],\n",
              "       [2527.6833],\n",
              "       [2564.9363],\n",
              "       [2621.772 ],\n",
              "       [2574.4004],\n",
              "       [2568.4463],\n",
              "       [2673.176 ],\n",
              "       [2672.1418],\n",
              "       [2667.5532],\n",
              "       [2693.2715],\n",
              "       [2704.5188],\n",
              "       [2710.205 ],\n",
              "       [2734.1602],\n",
              "       [2705.2668],\n",
              "       [2620.9321],\n",
              "       [2622.0525],\n",
              "       [2613.8076],\n",
              "       [2671.449 ],\n",
              "       [2644.5603],\n",
              "       [2599.222 ],\n",
              "       [2535.0388],\n",
              "       [2536.4727],\n",
              "       [2513.6316],\n",
              "       [2493.4058],\n",
              "       [2507.191 ],\n",
              "       [2514.3782],\n",
              "       [2530.3425],\n",
              "       [2557.1184],\n",
              "       [2562.0896],\n",
              "       [2595.3618],\n",
              "       [2585.1453],\n",
              "       [2520.9402],\n",
              "       [2463.2134],\n",
              "       [2477.0083],\n",
              "       [2387.6377],\n",
              "       [2390.2507],\n",
              "       [2372.147 ],\n",
              "       [2499.6912],\n",
              "       [2446.7205],\n",
              "       [2438.2537],\n",
              "       [2409.7114],\n",
              "       [2466.2424],\n",
              "       [2498.4233],\n",
              "       [2423.8333],\n",
              "       [2362.1423],\n",
              "       [2383.2717],\n",
              "       [2434.6355],\n",
              "       [2476.7468],\n",
              "       [2474.7366],\n",
              "       [2417.5913],\n",
              "       [2379.832 ],\n",
              "       [2378.369 ],\n",
              "       [2415.7744],\n",
              "       [2364.0918],\n",
              "       [2288.0298],\n",
              "       [2311.7832],\n",
              "       [2381.131 ],\n",
              "       [2389.6113],\n",
              "       [2382.9912],\n",
              "       [2375.6023],\n",
              "       [2402.0034],\n",
              "       [2413.706 ],\n",
              "       [2371.8396],\n",
              "       [2370.9893],\n",
              "       [2412.74  ],\n",
              "       [2473.058 ],\n",
              "       [2486.8176],\n",
              "       [2426.5476],\n",
              "       [2431.7415],\n",
              "       [2447.1997],\n",
              "       [2467.9634],\n",
              "       [2531.4646],\n",
              "       [2551.166 ],\n",
              "       [2545.2307],\n",
              "       [2553.098 ],\n",
              "       [2527.436 ],\n",
              "       [2524.0903],\n",
              "       [2487.434 ],\n",
              "       [2483.8523],\n",
              "       [2395.0078],\n",
              "       [2375.8608],\n",
              "       [2354.3079],\n",
              "       [2350.7434],\n",
              "       [2398.57  ],\n",
              "       [2398.2983],\n",
              "       [2391.4114],\n",
              "       [2359.5999],\n",
              "       [2335.2798],\n",
              "       [2324.4937],\n",
              "       [2364.2144],\n",
              "       [2400.2083],\n",
              "       [2397.075 ],\n",
              "       [2384.282 ],\n",
              "       [2346.9834],\n",
              "       [2417.253 ],\n",
              "       [2434.2551],\n",
              "       [2453.8867],\n",
              "       [2435.1946],\n",
              "       [2405.5269],\n",
              "       [2394.4128],\n",
              "       [2385.3464],\n",
              "       [2277.0447],\n",
              "       [2283.0244],\n",
              "       [2372.5974],\n",
              "       [2425.8057],\n",
              "       [2397.37  ],\n",
              "       [2329.7056],\n",
              "       [2242.5425],\n",
              "       [2235.4133],\n",
              "       [2360.3896],\n",
              "       [2424.778 ],\n",
              "       [2418.226 ],\n",
              "       [2419.7085],\n",
              "       [2369.0928],\n",
              "       [2399.397 ],\n",
              "       [2491.2617],\n",
              "       [2491.0603],\n",
              "       [2534.5854],\n",
              "       [2548.6963],\n",
              "       [2582.3174],\n",
              "       [2602.8494],\n",
              "       [2626.9119],\n",
              "       [2628.5156],\n",
              "       [2675.4858],\n",
              "       [2644.8066],\n",
              "       [2654.283 ],\n",
              "       [2669.5542],\n",
              "       [2633.7732],\n",
              "       [2619.744 ],\n",
              "       [2579.077 ],\n",
              "       [2618.5356],\n",
              "       [2625.4358],\n",
              "       [2569.715 ],\n",
              "       [2549.5403],\n",
              "       [2548.703 ],\n",
              "       [2647.4639],\n",
              "       [2737.6445],\n",
              "       [2792.099 ],\n",
              "       [2755.2139],\n",
              "       [2678.0442],\n",
              "       [2762.292 ],\n",
              "       [2794.8477],\n",
              "       [2827.845 ],\n",
              "       [2793.362 ],\n",
              "       [2773.6824],\n",
              "       [2691.4539],\n",
              "       [2636.2551],\n",
              "       [2626.1414],\n",
              "       [2534.6465],\n",
              "       [2479.81  ],\n",
              "       [2460.2444],\n",
              "       [2416.8591],\n",
              "       [2435.1108],\n",
              "       [2442.8206],\n",
              "       [2534.7568],\n",
              "       [2554.9521],\n",
              "       [2483.525 ],\n",
              "       [2607.779 ],\n",
              "       [2626.3394],\n",
              "       [2618.3645],\n",
              "       [2610.945 ],\n",
              "       [2589.998 ],\n",
              "       [2579.9966],\n",
              "       [2672.541 ],\n",
              "       [2655.701 ],\n",
              "       [2635.9067],\n",
              "       [2724.4265],\n",
              "       [2794.9058],\n",
              "       [2774.1023],\n",
              "       [2763.0483],\n",
              "       [2718.2122],\n",
              "       [2795.0437],\n",
              "       [2728.645 ],\n",
              "       [2657.349 ],\n",
              "       [2626.203 ],\n",
              "       [2605.1333],\n",
              "       [2572.1748],\n",
              "       [2598.379 ],\n",
              "       [2558.9346],\n",
              "       [2585.5266],\n",
              "       [2517.5845],\n",
              "       [2462.9966],\n",
              "       [2499.8599],\n",
              "       [2509.7078],\n",
              "       [2537.866 ],\n",
              "       [2589.057 ],\n",
              "       [2605.4546],\n",
              "       [2417.848 ],\n",
              "       [2392.2688],\n",
              "       [2442.9448],\n",
              "       [2440.328 ],\n",
              "       [2406.4727],\n",
              "       [2399.9365],\n",
              "       [2433.0618],\n",
              "       [2436.0273],\n",
              "       [2389.1155],\n",
              "       [2397.509 ],\n",
              "       [2412.4358],\n",
              "       [2434.0234],\n",
              "       [2449.07  ],\n",
              "       [2509.906 ],\n",
              "       [2501.489 ],\n",
              "       [2505.2375],\n",
              "       [2429.259 ],\n",
              "       [2419.1997],\n",
              "       [2431.0146],\n",
              "       [2472.4546],\n",
              "       [2526.355 ],\n",
              "       [2588.3074],\n",
              "       [2595.1606],\n",
              "       [2604.853 ],\n",
              "       [2572.5024],\n",
              "       [2532.5764],\n",
              "       [2568.127 ],\n",
              "       [2598.3035],\n",
              "       [2605.0093],\n",
              "       [2639.597 ],\n",
              "       [2659.6064],\n",
              "       [2669.064 ],\n",
              "       [2662.784 ],\n",
              "       [2614.4734],\n",
              "       [2604.162 ],\n",
              "       [2653.1118],\n",
              "       [2655.5745],\n",
              "       [2638.1323],\n",
              "       [2619.6921],\n",
              "       [2600.2703],\n",
              "       [2641.27  ],\n",
              "       [2574.423 ],\n",
              "       [2528.526 ],\n",
              "       [2571.5366],\n",
              "       [2613.356 ],\n",
              "       [2595.6934],\n",
              "       [2586.5093],\n",
              "       [2571.6213],\n",
              "       [2600.232 ],\n",
              "       [2629.3247],\n",
              "       [2597.735 ],\n",
              "       [2562.767 ],\n",
              "       [2502.5452],\n",
              "       [2504.74  ],\n",
              "       [2517.3076],\n",
              "       [2525.1194],\n",
              "       [2498.9092],\n",
              "       [2446.512 ],\n",
              "       [2382.8032],\n",
              "       [2399.0056],\n",
              "       [2354.1387],\n",
              "       [2335.4836],\n",
              "       [2386.3276],\n",
              "       [2390.5342],\n",
              "       [2421.0156],\n",
              "       [2432.3574],\n",
              "       [2438.379 ],\n",
              "       [2413.1018],\n",
              "       [2364.3018],\n",
              "       [2377.9749],\n",
              "       [2398.3196],\n",
              "       [2389.1055],\n",
              "       [2417.9897],\n",
              "       [2463.684 ],\n",
              "       [2506.3958],\n",
              "       [2510.8833],\n",
              "       [2475.94  ],\n",
              "       [2478.5276],\n",
              "       [2451.4202],\n",
              "       [2457.9326],\n",
              "       [2536.34  ],\n",
              "       [2570.6206],\n",
              "       [2540.7263],\n",
              "       [2543.2922],\n",
              "       [2559.0073],\n",
              "       [2599.6497],\n",
              "       [2617.3525],\n",
              "       [2610.0083],\n",
              "       [2575.0288],\n",
              "       [2630.6428],\n",
              "       [2633.7253],\n",
              "       [2613.055 ],\n",
              "       [2594.263 ],\n",
              "       [2602.4868],\n",
              "       [2606.4636],\n",
              "       [2559.8835],\n",
              "       [2565.7578],\n",
              "       [2566.9165],\n",
              "       [2587.4404],\n",
              "       [2626.6045],\n",
              "       [2715.7307],\n",
              "       [2723.3855],\n",
              "       [2726.0989],\n",
              "       [2717.7712],\n",
              "       [2718.8608],\n",
              "       [2684.5447],\n",
              "       [2690.9695],\n",
              "       [2659.7512],\n",
              "       [2653.9724],\n",
              "       [2618.1445],\n",
              "       [2617.5276],\n",
              "       [2634.1267],\n",
              "       [2625.6184],\n",
              "       [2583.0586],\n",
              "       [2565.1099],\n",
              "       [2603.2817],\n",
              "       [2634.45  ],\n",
              "       [2594.3408],\n",
              "       [2575.2822],\n",
              "       [2506.6594],\n",
              "       [2522.9307],\n",
              "       [2558.8752],\n",
              "       [2561.1863],\n",
              "       [2551.5415],\n",
              "       [2551.4456],\n",
              "       [2580.732 ],\n",
              "       [2567.215 ],\n",
              "       [2522.9475],\n",
              "       [2514.8525],\n",
              "       [2544.94  ],\n",
              "       [2610.0698],\n",
              "       [2575.8499],\n",
              "       [2526.003 ],\n",
              "       [2471.8264],\n",
              "       [2470.5605],\n",
              "       [2459.3867],\n",
              "       [2490.7314],\n",
              "       [2492.0254],\n",
              "       [2481.6814],\n",
              "       [2449.7224],\n",
              "       [2434.1394],\n",
              "       [2424.2441],\n",
              "       [2394.6255],\n",
              "       [2348.8135],\n",
              "       [2365.8726],\n",
              "       [2371.465 ],\n",
              "       [2355.574 ],\n",
              "       [2337.5405],\n",
              "       [2337.539 ],\n",
              "       [2324.3457],\n",
              "       [2316.4995],\n",
              "       [2359.4482],\n",
              "       [2373.2837],\n",
              "       [2349.8188],\n",
              "       [2329.7395],\n",
              "       [2381.2156],\n",
              "       [2446.7766],\n",
              "       [2448.4285],\n",
              "       [2445.4333],\n",
              "       [2420.3171],\n",
              "       [2436.9158],\n",
              "       [2394.585 ],\n",
              "       [2374.7134],\n",
              "       [2393.9087],\n",
              "       [2386.4167],\n",
              "       [2338.3079],\n",
              "       [2348.3962],\n",
              "       [2341.636 ],\n",
              "       [2393.137 ],\n",
              "       [2424.996 ],\n",
              "       [2428.619 ],\n",
              "       [2368.0566],\n",
              "       [2322.8948],\n",
              "       [2291.8286],\n",
              "       [2288.1392],\n",
              "       [2258.0676],\n",
              "       [2241.0325],\n",
              "       [2238.008 ],\n",
              "       [2218.9429],\n",
              "       [2275.0938],\n",
              "       [2296.0615],\n",
              "       [2263.2876]], dtype=float32)"
            ]
          },
          "metadata": {},
          "execution_count": 54
        }
      ]
    },
    {
      "cell_type": "code",
      "source": [
        "#error\n",
        "rmse = np.sqrt(np.mean((( predictions - y_test)**2)))\n",
        "rmse"
      ],
      "metadata": {
        "colab": {
          "base_uri": "https://localhost:8080/"
        },
        "id": "n8SPWVc6EdMx",
        "outputId": "c62ca4f0-ff05-41e6-d15a-1c335918da79"
      },
      "execution_count": 55,
      "outputs": [
        {
          "output_type": "execute_result",
          "data": {
            "text/plain": [
              "39.655507439778155"
            ]
          },
          "metadata": {},
          "execution_count": 55
        }
      ]
    },
    {
      "cell_type": "code",
      "source": [
        "data_range=np.max(dataset)-np.min(dataset)\n",
        "# data_range=np.mean(dataset)\n",
        "data_range"
      ],
      "metadata": {
        "colab": {
          "base_uri": "https://localhost:8080/"
        },
        "id": "uFyZa8OZy2YW",
        "outputId": "0073528e-749f-4390-a8ab-8be6896ac089"
      },
      "execution_count": 56,
      "outputs": [
        {
          "output_type": "execute_result",
          "data": {
            "text/plain": [
              "2439.678741455078"
            ]
          },
          "metadata": {},
          "execution_count": 56
        }
      ]
    },
    {
      "cell_type": "code",
      "source": [
        "error = rmse/data_range\n",
        "accuracy =(1-error)*100\n",
        "accuracy"
      ],
      "metadata": {
        "colab": {
          "base_uri": "https://localhost:8080/"
        },
        "id": "t-of86rlzJi7",
        "outputId": "c17d2720-8f1a-4c4e-c4ef-5795fb4826bf"
      },
      "execution_count": 57,
      "outputs": [
        {
          "output_type": "execute_result",
          "data": {
            "text/plain": [
              "98.37456027443487"
            ]
          },
          "metadata": {},
          "execution_count": 57
        }
      ]
    },
    {
      "cell_type": "code",
      "source": [
        "train = data[:training_data_len]\n",
        "valid = data[training_data_len:]\n",
        "valid['Predictions']=predictions\n",
        "\n"
      ],
      "metadata": {
        "colab": {
          "base_uri": "https://localhost:8080/"
        },
        "id": "kJR5JArEGknG",
        "outputId": "31755a5c-fb39-4240-9c26-075d44bb6bcd"
      },
      "execution_count": 58,
      "outputs": [
        {
          "output_type": "stream",
          "name": "stderr",
          "text": [
            "<ipython-input-58-2873d6529edb>:3: SettingWithCopyWarning: \n",
            "A value is trying to be set on a copy of a slice from a DataFrame.\n",
            "Try using .loc[row_indexer,col_indexer] = value instead\n",
            "\n",
            "See the caveats in the documentation: https://pandas.pydata.org/pandas-docs/stable/user_guide/indexing.html#returning-a-view-versus-a-copy\n",
            "  valid['Predictions']=predictions\n"
          ]
        }
      ]
    },
    {
      "cell_type": "code",
      "source": [
        "valid"
      ],
      "metadata": {
        "colab": {
          "base_uri": "https://localhost:8080/",
          "height": 450
        },
        "id": "FMtUdK1GHs3B",
        "outputId": "dfec7cce-3f7b-44a4-8e64-65632b2cd9ac"
      },
      "execution_count": 59,
      "outputs": [
        {
          "output_type": "execute_result",
          "data": {
            "text/plain": [
              "                  Close  Predictions\n",
              "Date                                \n",
              "2021-03-15  2108.899902  2154.682373\n",
              "2021-03-16  2100.600098  2121.118896\n",
              "2021-03-17  2055.350098  2113.064209\n",
              "2021-03-18  2009.099976  2077.744141\n",
              "2021-03-19  2082.000000  2029.434937\n",
              "...                 ...          ...\n",
              "2023-03-20  2201.250000  2238.008057\n",
              "2023-03-21  2269.699951  2218.942871\n",
              "2023-03-22  2276.600098  2275.093750\n",
              "2023-03-23  2247.800049  2296.061523\n",
              "2023-03-24  2203.300049  2263.287598\n",
              "\n",
              "[505 rows x 2 columns]"
            ],
            "text/html": [
              "\n",
              "  <div id=\"df-0a396051-0dcd-4224-a3ac-f448710648b8\">\n",
              "    <div class=\"colab-df-container\">\n",
              "      <div>\n",
              "<style scoped>\n",
              "    .dataframe tbody tr th:only-of-type {\n",
              "        vertical-align: middle;\n",
              "    }\n",
              "\n",
              "    .dataframe tbody tr th {\n",
              "        vertical-align: top;\n",
              "    }\n",
              "\n",
              "    .dataframe thead th {\n",
              "        text-align: right;\n",
              "    }\n",
              "</style>\n",
              "<table border=\"1\" class=\"dataframe\">\n",
              "  <thead>\n",
              "    <tr style=\"text-align: right;\">\n",
              "      <th></th>\n",
              "      <th>Close</th>\n",
              "      <th>Predictions</th>\n",
              "    </tr>\n",
              "    <tr>\n",
              "      <th>Date</th>\n",
              "      <th></th>\n",
              "      <th></th>\n",
              "    </tr>\n",
              "  </thead>\n",
              "  <tbody>\n",
              "    <tr>\n",
              "      <th>2021-03-15</th>\n",
              "      <td>2108.899902</td>\n",
              "      <td>2154.682373</td>\n",
              "    </tr>\n",
              "    <tr>\n",
              "      <th>2021-03-16</th>\n",
              "      <td>2100.600098</td>\n",
              "      <td>2121.118896</td>\n",
              "    </tr>\n",
              "    <tr>\n",
              "      <th>2021-03-17</th>\n",
              "      <td>2055.350098</td>\n",
              "      <td>2113.064209</td>\n",
              "    </tr>\n",
              "    <tr>\n",
              "      <th>2021-03-18</th>\n",
              "      <td>2009.099976</td>\n",
              "      <td>2077.744141</td>\n",
              "    </tr>\n",
              "    <tr>\n",
              "      <th>2021-03-19</th>\n",
              "      <td>2082.000000</td>\n",
              "      <td>2029.434937</td>\n",
              "    </tr>\n",
              "    <tr>\n",
              "      <th>...</th>\n",
              "      <td>...</td>\n",
              "      <td>...</td>\n",
              "    </tr>\n",
              "    <tr>\n",
              "      <th>2023-03-20</th>\n",
              "      <td>2201.250000</td>\n",
              "      <td>2238.008057</td>\n",
              "    </tr>\n",
              "    <tr>\n",
              "      <th>2023-03-21</th>\n",
              "      <td>2269.699951</td>\n",
              "      <td>2218.942871</td>\n",
              "    </tr>\n",
              "    <tr>\n",
              "      <th>2023-03-22</th>\n",
              "      <td>2276.600098</td>\n",
              "      <td>2275.093750</td>\n",
              "    </tr>\n",
              "    <tr>\n",
              "      <th>2023-03-23</th>\n",
              "      <td>2247.800049</td>\n",
              "      <td>2296.061523</td>\n",
              "    </tr>\n",
              "    <tr>\n",
              "      <th>2023-03-24</th>\n",
              "      <td>2203.300049</td>\n",
              "      <td>2263.287598</td>\n",
              "    </tr>\n",
              "  </tbody>\n",
              "</table>\n",
              "<p>505 rows × 2 columns</p>\n",
              "</div>\n",
              "      <button class=\"colab-df-convert\" onclick=\"convertToInteractive('df-0a396051-0dcd-4224-a3ac-f448710648b8')\"\n",
              "              title=\"Convert this dataframe to an interactive table.\"\n",
              "              style=\"display:none;\">\n",
              "        \n",
              "  <svg xmlns=\"http://www.w3.org/2000/svg\" height=\"24px\"viewBox=\"0 0 24 24\"\n",
              "       width=\"24px\">\n",
              "    <path d=\"M0 0h24v24H0V0z\" fill=\"none\"/>\n",
              "    <path d=\"M18.56 5.44l.94 2.06.94-2.06 2.06-.94-2.06-.94-.94-2.06-.94 2.06-2.06.94zm-11 1L8.5 8.5l.94-2.06 2.06-.94-2.06-.94L8.5 2.5l-.94 2.06-2.06.94zm10 10l.94 2.06.94-2.06 2.06-.94-2.06-.94-.94-2.06-.94 2.06-2.06.94z\"/><path d=\"M17.41 7.96l-1.37-1.37c-.4-.4-.92-.59-1.43-.59-.52 0-1.04.2-1.43.59L10.3 9.45l-7.72 7.72c-.78.78-.78 2.05 0 2.83L4 21.41c.39.39.9.59 1.41.59.51 0 1.02-.2 1.41-.59l7.78-7.78 2.81-2.81c.8-.78.8-2.07 0-2.86zM5.41 20L4 18.59l7.72-7.72 1.47 1.35L5.41 20z\"/>\n",
              "  </svg>\n",
              "      </button>\n",
              "      \n",
              "  <style>\n",
              "    .colab-df-container {\n",
              "      display:flex;\n",
              "      flex-wrap:wrap;\n",
              "      gap: 12px;\n",
              "    }\n",
              "\n",
              "    .colab-df-convert {\n",
              "      background-color: #E8F0FE;\n",
              "      border: none;\n",
              "      border-radius: 50%;\n",
              "      cursor: pointer;\n",
              "      display: none;\n",
              "      fill: #1967D2;\n",
              "      height: 32px;\n",
              "      padding: 0 0 0 0;\n",
              "      width: 32px;\n",
              "    }\n",
              "\n",
              "    .colab-df-convert:hover {\n",
              "      background-color: #E2EBFA;\n",
              "      box-shadow: 0px 1px 2px rgba(60, 64, 67, 0.3), 0px 1px 3px 1px rgba(60, 64, 67, 0.15);\n",
              "      fill: #174EA6;\n",
              "    }\n",
              "\n",
              "    [theme=dark] .colab-df-convert {\n",
              "      background-color: #3B4455;\n",
              "      fill: #D2E3FC;\n",
              "    }\n",
              "\n",
              "    [theme=dark] .colab-df-convert:hover {\n",
              "      background-color: #434B5C;\n",
              "      box-shadow: 0px 1px 3px 1px rgba(0, 0, 0, 0.15);\n",
              "      filter: drop-shadow(0px 1px 2px rgba(0, 0, 0, 0.3));\n",
              "      fill: #FFFFFF;\n",
              "    }\n",
              "  </style>\n",
              "\n",
              "      <script>\n",
              "        const buttonEl =\n",
              "          document.querySelector('#df-0a396051-0dcd-4224-a3ac-f448710648b8 button.colab-df-convert');\n",
              "        buttonEl.style.display =\n",
              "          google.colab.kernel.accessAllowed ? 'block' : 'none';\n",
              "\n",
              "        async function convertToInteractive(key) {\n",
              "          const element = document.querySelector('#df-0a396051-0dcd-4224-a3ac-f448710648b8');\n",
              "          const dataTable =\n",
              "            await google.colab.kernel.invokeFunction('convertToInteractive',\n",
              "                                                     [key], {});\n",
              "          if (!dataTable) return;\n",
              "\n",
              "          const docLinkHtml = 'Like what you see? Visit the ' +\n",
              "            '<a target=\"_blank\" href=https://colab.research.google.com/notebooks/data_table.ipynb>data table notebook</a>'\n",
              "            + ' to learn more about interactive tables.';\n",
              "          element.innerHTML = '';\n",
              "          dataTable['output_type'] = 'display_data';\n",
              "          await google.colab.output.renderOutput(dataTable, element);\n",
              "          const docLink = document.createElement('div');\n",
              "          docLink.innerHTML = docLinkHtml;\n",
              "          element.appendChild(docLink);\n",
              "        }\n",
              "      </script>\n",
              "    </div>\n",
              "  </div>\n",
              "  "
            ]
          },
          "metadata": {},
          "execution_count": 59
        }
      ]
    },
    {
      "cell_type": "code",
      "source": [
        "import plotly.graph_objects as go\n"
      ],
      "metadata": {
        "id": "yYWfeZRMpKPu"
      },
      "execution_count": 60,
      "outputs": []
    },
    {
      "cell_type": "code",
      "source": [
        "import plotly.express as px"
      ],
      "metadata": {
        "id": "bBIrxUrertEt"
      },
      "execution_count": 61,
      "outputs": []
    },
    {
      "cell_type": "code",
      "source": [
        "train = data[:training_data_len]\n",
        "valid = data[training_data_len:]\n",
        "valid['Predictions'] = predictions\n",
        "\n",
        "plt.figure(figsize=(32,16))\n",
        "plt.title ('model')\n",
        "plt.xlabel('Date',fontsize=18)\n",
        "plt.ylabel('close price(in rupees)', fontsize=18)\n",
        "plt.plot(train['Close'])\n",
        "plt.plot(valid[['Close','Predictions']])\n",
        "plt.legend(['Train','Val','Predictions'] , loc='lower right')\n",
        "plt.show()"
      ],
      "metadata": {
        "colab": {
          "base_uri": "https://localhost:8080/",
          "height": 758
        },
        "id": "38HAdg7xlTo6",
        "outputId": "31be1237-c5cf-4e60-821f-ce1fd1545473"
      },
      "execution_count": 62,
      "outputs": [
        {
          "output_type": "stream",
          "name": "stderr",
          "text": [
            "<ipython-input-62-d8fcf4049d36>:3: SettingWithCopyWarning: \n",
            "A value is trying to be set on a copy of a slice from a DataFrame.\n",
            "Try using .loc[row_indexer,col_indexer] = value instead\n",
            "\n",
            "See the caveats in the documentation: https://pandas.pydata.org/pandas-docs/stable/user_guide/indexing.html#returning-a-view-versus-a-copy\n",
            "  valid['Predictions'] = predictions\n"
          ]
        },
        {
          "output_type": "display_data",
          "data": {
            "text/plain": [
              "<Figure size 2304x1152 with 1 Axes>"
            ],
            "image/png": "[encoded data removed]"
          },
          "metadata": {}
        }
      ]
    },
    {
      "cell_type": "code",
      "source": [
        "!pip install datetime"
      ],
      "metadata": {
        "colab": {
          "base_uri": "https://localhost:8080/"
        },
        "id": "TdKvh0j5xNcC",
        "outputId": "e490f5dc-afa1-4944-d9ad-e2720a460d6d"
      },
      "execution_count": 63,
      "outputs": [
        {
          "output_type": "stream",
          "name": "stdout",
          "text": [
            "Looking in indexes: https://pypi.org/simple, https://us-python.pkg.dev/colab-wheels/public/simple/\n",
            "Collecting datetime\n",
            "  Downloading DateTime-5.1-py3-none-any.whl (52 kB)\n",
            "\u001b[2K     \u001b[90m━━━━━━━━━━━━━━━━━━━━━━━━━━━━━━━━━━━━━━━━\u001b[0m \u001b[32m52.1/52.1 KB\u001b[0m \u001b[31m2.5 MB/s\u001b[0m eta \u001b[36m0:00:00\u001b[0m\n",
            "\u001b[?25hRequirement already satisfied: pytz in /usr/local/lib/python3.9/dist-packages (from datetime) (2022.7.1)\n",
            "Collecting zope.interface\n",
            "  Downloading zope.interface-6.0-cp39-cp39-manylinux_2_5_x86_64.manylinux1_x86_64.manylinux_2_17_x86_64.manylinux2014_x86_64.whl (246 kB)\n",
            "\u001b[2K     \u001b[90m━━━━━━━━━━━━━━━━━━━━━━━━━━━━━━━━━━━━━━━\u001b[0m \u001b[32m246.1/246.1 KB\u001b[0m \u001b[31m7.5 MB/s\u001b[0m eta \u001b[36m0:00:00\u001b[0m\n",
            "\u001b[?25hRequirement already satisfied: setuptools in /usr/local/lib/python3.9/dist-packages (from zope.interface->datetime) (67.6.0)\n",
            "Installing collected packages: zope.interface, datetime\n",
            "Successfully installed datetime-5.1 zope.interface-6.0\n"
          ]
        }
      ]
    },
    {
      "cell_type": "code",
      "source": [
        "# get next day price\n",
        "from datetime import datetime\n",
        "end_date = datetime.today().strftime('%Y-%m-%d')\n",
        "\n",
        "new_info = yf.download(tickers=\"RELIANCE.NS\", start=\"2013-01-01\", end=end_date)\n",
        "new_df = new_info.filter(['Close'])\n",
        "last_60_days = new_df[-60:].values\n",
        "last_60_days_scaled = scaler.transform(last_60_days)\n",
        "X_test = []\n",
        "X_test.append(last_60_days_scaled)\n",
        "X_test = np.array(X_test)\n",
        "X_test = np.reshape(X_test, (X_test.shape[0],X_test.shape[1],1))\n",
        "pred_price = model.predict(X_test)\n",
        "pred_price = scaler.inverse_transform(pred_price)\n",
        "print(pred_price)              "
      ],
      "metadata": {
        "id": "pChreO-BImDk",
        "colab": {
          "base_uri": "https://localhost:8080/"
        },
        "outputId": "8f41ea44-90c2-491f-a7c9-a59e9a18d976"
      },
      "execution_count": 64,
      "outputs": [
        {
          "output_type": "stream",
          "name": "stdout",
          "text": [
            "[*********************100%***********************]  1 of 1 completed\n",
            "1/1 [==============================] - 0s 37ms/step\n",
            "[[2211.1643]]\n"
          ]
        }
      ]
    },
    {
      "cell_type": "code",
      "source": [
        "t_info = yf.download(tickers=\"RELIANCE.NS\", start=\"2023-03-16\", end=\"2023-03-19\")\n",
        "t_info"
      ],
      "metadata": {
        "colab": {
          "base_uri": "https://localhost:8080/",
          "height": 159
        },
        "id": "FeZ70jsAvUAU",
        "outputId": "039a68f0-854b-4d5e-f23b-56b4cebf7529"
      },
      "execution_count": 65,
      "outputs": [
        {
          "output_type": "stream",
          "name": "stdout",
          "text": [
            "\r[*********************100%***********************]  1 of 1 completed\n"
          ]
        },
        {
          "output_type": "execute_result",
          "data": {
            "text/plain": [
              "               Open         High          Low        Close    Adj Close  \\\n",
              "Date                                                                      \n",
              "2023-03-16  2243.00  2254.000000  2202.199951  2225.899902  2225.899902   \n",
              "2023-03-17  2244.75  2251.949951  2212.699951  2223.100098  2223.100098   \n",
              "\n",
              "              Volume  \n",
              "Date                  \n",
              "2023-03-16   8474595  \n",
              "2023-03-17  15697554  "
            ],
            "text/html": [
              "\n",
              "  <div id=\"df-0a45a203-9eae-42b2-9774-9071ac1faf75\">\n",
              "    <div class=\"colab-df-container\">\n",
              "      <div>\n",
              "<style scoped>\n",
              "    .dataframe tbody tr th:only-of-type {\n",
              "        vertical-align: middle;\n",
              "    }\n",
              "\n",
              "    .dataframe tbody tr th {\n",
              "        vertical-align: top;\n",
              "    }\n",
              "\n",
              "    .dataframe thead th {\n",
              "        text-align: right;\n",
              "    }\n",
              "</style>\n",
              "<table border=\"1\" class=\"dataframe\">\n",
              "  <thead>\n",
              "    <tr style=\"text-align: right;\">\n",
              "      <th></th>\n",
              "      <th>Open</th>\n",
              "      <th>High</th>\n",
              "      <th>Low</th>\n",
              "      <th>Close</th>\n",
              "      <th>Adj Close</th>\n",
              "      <th>Volume</th>\n",
              "    </tr>\n",
              "    <tr>\n",
              "      <th>Date</th>\n",
              "      <th></th>\n",
              "      <th></th>\n",
              "      <th></th>\n",
              "      <th></th>\n",
              "      <th></th>\n",
              "      <th></th>\n",
              "    </tr>\n",
              "  </thead>\n",
              "  <tbody>\n",
              "    <tr>\n",
              "      <th>2023-03-16</th>\n",
              "      <td>2243.00</td>\n",
              "      <td>2254.000000</td>\n",
              "      <td>2202.199951</td>\n",
              "      <td>2225.899902</td>\n",
              "      <td>2225.899902</td>\n",
              "      <td>8474595</td>\n",
              "    </tr>\n",
              "    <tr>\n",
              "      <th>2023-03-17</th>\n",
              "      <td>2244.75</td>\n",
              "      <td>2251.949951</td>\n",
              "      <td>2212.699951</td>\n",
              "      <td>2223.100098</td>\n",
              "      <td>2223.100098</td>\n",
              "      <td>15697554</td>\n",
              "    </tr>\n",
              "  </tbody>\n",
              "</table>\n",
              "</div>\n",
              "      <button class=\"colab-df-convert\" onclick=\"convertToInteractive('df-0a45a203-9eae-42b2-9774-9071ac1faf75')\"\n",
              "              title=\"Convert this dataframe to an interactive table.\"\n",
              "              style=\"display:none;\">\n",
              "        \n",
              "  <svg xmlns=\"http://www.w3.org/2000/svg\" height=\"24px\"viewBox=\"0 0 24 24\"\n",
              "       width=\"24px\">\n",
              "    <path d=\"M0 0h24v24H0V0z\" fill=\"none\"/>\n",
              "    <path d=\"M18.56 5.44l.94 2.06.94-2.06 2.06-.94-2.06-.94-.94-2.06-.94 2.06-2.06.94zm-11 1L8.5 8.5l.94-2.06 2.06-.94-2.06-.94L8.5 2.5l-.94 2.06-2.06.94zm10 10l.94 2.06.94-2.06 2.06-.94-2.06-.94-.94-2.06-.94 2.06-2.06.94z\"/><path d=\"M17.41 7.96l-1.37-1.37c-.4-.4-.92-.59-1.43-.59-.52 0-1.04.2-1.43.59L10.3 9.45l-7.72 7.72c-.78.78-.78 2.05 0 2.83L4 21.41c.39.39.9.59 1.41.59.51 0 1.02-.2 1.41-.59l7.78-7.78 2.81-2.81c.8-.78.8-2.07 0-2.86zM5.41 20L4 18.59l7.72-7.72 1.47 1.35L5.41 20z\"/>\n",
              "  </svg>\n",
              "      </button>\n",
              "      \n",
              "  <style>\n",
              "    .colab-df-container {\n",
              "      display:flex;\n",
              "      flex-wrap:wrap;\n",
              "      gap: 12px;\n",
              "    }\n",
              "\n",
              "    .colab-df-convert {\n",
              "      background-color: #E8F0FE;\n",
              "      border: none;\n",
              "      border-radius: 50%;\n",
              "      cursor: pointer;\n",
              "      display: none;\n",
              "      fill: #1967D2;\n",
              "      height: 32px;\n",
              "      padding: 0 0 0 0;\n",
              "      width: 32px;\n",
              "    }\n",
              "\n",
              "    .colab-df-convert:hover {\n",
              "      background-color: #E2EBFA;\n",
              "      box-shadow: 0px 1px 2px rgba(60, 64, 67, 0.3), 0px 1px 3px 1px rgba(60, 64, 67, 0.15);\n",
              "      fill: #174EA6;\n",
              "    }\n",
              "\n",
              "    [theme=dark] .colab-df-convert {\n",
              "      background-color: #3B4455;\n",
              "      fill: #D2E3FC;\n",
              "    }\n",
              "\n",
              "    [theme=dark] .colab-df-convert:hover {\n",
              "      background-color: #434B5C;\n",
              "      box-shadow: 0px 1px 3px 1px rgba(0, 0, 0, 0.15);\n",
              "      filter: drop-shadow(0px 1px 2px rgba(0, 0, 0, 0.3));\n",
              "      fill: #FFFFFF;\n",
              "    }\n",
              "  </style>\n",
              "\n",
              "      <script>\n",
              "        const buttonEl =\n",
              "          document.querySelector('#df-0a45a203-9eae-42b2-9774-9071ac1faf75 button.colab-df-convert');\n",
              "        buttonEl.style.display =\n",
              "          google.colab.kernel.accessAllowed ? 'block' : 'none';\n",
              "\n",
              "        async function convertToInteractive(key) {\n",
              "          const element = document.querySelector('#df-0a45a203-9eae-42b2-9774-9071ac1faf75');\n",
              "          const dataTable =\n",
              "            await google.colab.kernel.invokeFunction('convertToInteractive',\n",
              "                                                     [key], {});\n",
              "          if (!dataTable) return;\n",
              "\n",
              "          const docLinkHtml = 'Like what you see? Visit the ' +\n",
              "            '<a target=\"_blank\" href=https://colab.research.google.com/notebooks/data_table.ipynb>data table notebook</a>'\n",
              "            + ' to learn more about interactive tables.';\n",
              "          element.innerHTML = '';\n",
              "          dataTable['output_type'] = 'display_data';\n",
              "          await google.colab.output.renderOutput(dataTable, element);\n",
              "          const docLink = document.createElement('div');\n",
              "          docLink.innerHTML = docLinkHtml;\n",
              "          element.appendChild(docLink);\n",
              "        }\n",
              "      </script>\n",
              "    </div>\n",
              "  </div>\n",
              "  "
            ]
          },
          "metadata": {},
          "execution_count": 65
        }
      ]
    }
  ]
}